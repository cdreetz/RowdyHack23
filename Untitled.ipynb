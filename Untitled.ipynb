{
 "cells": [
  {
   "cell_type": "code",
   "execution_count": 60,
   "id": "94aad7d9",
   "metadata": {},
   "outputs": [],
   "source": [
    "import json\n",
    "\n",
    "def isValid(stale, latest, otjson):\n",
    "    # Parse the OT operations from the JSON string into a list\n",
    "    otlist = json.loads(otjson)\n",
    "    \n",
    "    # Initialize the index into the string to 0\n",
    "    idx = 0\n",
    "    update = stale\n",
    "    # Loop over each operation in the OT list\n",
    "    for op in otlist:\n",
    "        print(f\"Processing operation: {op}\")\n",
    "\n",
    "        # If the operation is a \"skip\" operation, update the index by the specified count\n",
    "        if op[\"op\"] == \"skip\":\n",
    "            idx += op[\"count\"]\n",
    "            if idx > len(update):\n",
    "                return False\n",
    "            print(f\"Current latest: {update}\")\n",
    "            print(f\"Current idx: {idx}\")\n",
    "        \n",
    "        # If the operation is a \"delete\" operation, delete the specified number of characters from the\n",
    "        # latest string starting at the current index, and do not update the index\n",
    "        elif op[\"op\"] == \"delete\":\n",
    "            if idx+op[\"count\"] > len(update):\n",
    "                return False\n",
    "            update = update[:idx] + update[idx+op[\"count\"]:]\n",
    "            print(f\"Current latest: {update}\")\n",
    "        \n",
    "        # If the operation is an \"insert\" operation, insert the specified characters into the latest\n",
    "        # string at the current index, and update the index by the length of the inserted characters\n",
    "        elif op[\"op\"] == \"insert\":\n",
    "            update = update[:idx] + op[\"chars\"] + update[idx:]\n",
    "            idx += len(op[\"chars\"])\n",
    "            print(f\"Current latest: {update}\")\n",
    "            \n",
    "        else:\n",
    "            return False\n",
    "        \n",
    "    return update == latest\n"
   ]
  },
  {
   "cell_type": "code",
   "execution_count": 22,
   "id": "314ed6aa",
   "metadata": {},
   "outputs": [],
   "source": [
    "import json\n",
    "\n",
    "def isValid(stale, latest, otjson):\n",
    "    # Initialize latest to be equal to stale\n",
    "    latest = stale\n",
    "    \n",
    "    # Parse the JSON string into a list of operations\n",
    "    otlist = json.loads(otjson)\n",
    "    \n",
    "    # Initialize the index into the latest string to 0\n",
    "    idx = 0\n",
    "    \n",
    "    # Apply each operation in the list to the latest string\n",
    "    for op in otlist:\n",
    "        # If the operation is a \"skip\" operation, update the index by the specified count\n",
    "        if op[\"op\"] == \"skip\":\n",
    "            idx += op[\"count\"]\n",
    "        \n",
    "        # If the operation is a \"delete\" operation, delete the specified number of characters from the\n",
    "        # current latest string starting at the current index, and do not update the index\n",
    "        elif op[\"op\"] == \"delete\":\n",
    "            # Make a copy of the current latest string\n",
    "            old_latest = latest\n",
    "            \n",
    "            # Update the latest string to remove the specified number of characters\n",
    "            latest = latest[:idx] + old_latest[idx+op[\"count\"]:]\n",
    "            \n",
    "        # If the operation is an \"insert\" operation, insert the specified characters into the latest\n",
    "        # string at the current index, and update the index by the length of the inserted characters\n",
    "        elif op[\"op\"] == \"insert\":\n",
    "            # Make a copy of the current latest string\n",
    "            old_latest = latest\n",
    "            \n",
    "            # Update the latest string to insert the specified characters\n",
    "            latest = latest[:idx] + op[\"chars\"] + old_latest[idx:]\n",
    "            \n",
    "            # Update the index to point after the inserted characters\n",
    "            idx += len(op[\"chars\"])\n",
    "    \n",
    "    # Return whether the latest string matches the expected value\n",
    "    return latest == stale or stale == \"\"\n"
   ]
  },
  {
   "cell_type": "code",
   "execution_count": 13,
   "id": "f077a2d1",
   "metadata": {},
   "outputs": [
    {
     "name": "stdout",
     "output_type": "stream",
     "text": [
      "Processing operation: {'op': 'delete', 'count': 7}\n",
      "Current latest: operational transformations to keep everyone in a multiplayer repl in sync.\n",
      "Processing operation: {'op': 'insert', 'chars': 'We'}\n",
      "Current latest: Weoperational transformations to keep everyone in a multiplayer repl in sync.\n",
      "Processing operation: {'op': 'skip', 'count': 4}\n",
      "Current latest: Weoperational transformations to keep everyone in a multiplayer repl in sync.\n",
      "Current idx: 6\n",
      "Processing operation: {'op': 'delete', 'count': 1}\n",
      "Current latest: Weopertional transformations to keep everyone in a multiplayer repl in sync.\n",
      "False\n"
     ]
    }
   ],
   "source": [
    "stale = 'Repl.it uses operational transformations to keep everyone in a multiplayer repl in sync.'\n",
    "latest = 'We use operational transformations to keep everyone in a multiplayer repl in sync.'\n",
    "otjson = '[{\"op\": \"delete\", \"count\": 7}, {\"op\": \"insert\", \"chars\": \"We\"}, {\"op\": \"skip\", \"count\": 4}, {\"op\": \"delete\", \"count\": 1}]'\n",
    "\n",
    "print(isValid(stale, latest, otjson)) # True\n"
   ]
  },
  {
   "cell_type": "code",
   "execution_count": 15,
   "id": "468c5080",
   "metadata": {},
   "outputs": [
    {
     "name": "stdout",
     "output_type": "stream",
     "text": [
      "Processing operation: {'op': 'delete', 'count': 7}\n",
      "Current latest: Wperational transformations to keep everyone in a multiplayer repl in sync.\n",
      "Processing operation: {'op': 'insert', 'chars': 'We'}\n",
      "Current latest: WWeperational transformations to keep everyone in a multiplayer repl in sync.\n",
      "Processing operation: {'op': 'skip', 'count': 4}\n",
      "Current latest: WWeperational transformations to keep everyone in a multiplayer repl in sync.\n",
      "Current idx: 7\n",
      "Processing operation: {'op': 'delete', 'count': 1}\n",
      "Current latest: WWeperaional transformations to keep everyone in a multiplayer repl in sync.\n",
      "False\n"
     ]
    }
   ],
   "source": [
    "stale = 'Repl.it uses operational transformations to keep everyone in a multiplayer repl in sync.'\n",
    "latest = 'We use operational transformations to keep everyone in a multiplayer repl in sync.'\n",
    "otjson = '[{\"op\": \"delete\", \"count\": 7}, {\"op\": \"insert\", \"chars\": \"We\"}, {\"op\": \"skip\", \"count\": 4}, {\"op\": \"delete\", \"count\": 1}]'\n",
    "\n",
    "print(isValid(stale, latest, otjson)) # True"
   ]
  },
  {
   "cell_type": "code",
   "execution_count": 19,
   "id": "7ad2bdc8",
   "metadata": {},
   "outputs": [
    {
     "name": "stdout",
     "output_type": "stream",
     "text": [
      "Processing operation: {'op': 'delete', 'count': 7}\n",
      "Current latest:  uses operational transformations to keep everyone in a multiplayer repl in sync.\n",
      "Processing operation: {'op': 'insert', 'chars': 'We'}\n",
      "Current latest: We uses operational transformations to keep everyone in a multiplayer repl in sync.\n",
      "Processing operation: {'op': 'skip', 'count': 4}\n",
      "Current latest: We uses operational transformations to keep everyone in a multiplayer repl in sync.\n",
      "Current idx: 6\n",
      "Processing operation: {'op': 'delete', 'count': 1}\n",
      "Current latest: Repl.i uses operational transformations to keep everyone in a multiplayer repl in sync.\n",
      "False\n"
     ]
    }
   ],
   "source": [
    "stale = 'Repl.it uses operational transformations to keep everyone in a multiplayer repl in sync.'\n",
    "latest = 'We use operational transformations to keep everyone in a multiplayer repl in sync.'\n",
    "otjson = '[{\"op\": \"delete\", \"count\": 7}, {\"op\": \"insert\", \"chars\": \"We\"}, {\"op\": \"skip\", \"count\": 4}, {\"op\": \"delete\", \"count\": 1}]'\n",
    "\n",
    "print(isValid(stale, latest, otjson)) # True"
   ]
  },
  {
   "cell_type": "code",
   "execution_count": 21,
   "id": "77317f40",
   "metadata": {},
   "outputs": [
    {
     "name": "stdout",
     "output_type": "stream",
     "text": [
      "Processing operation: {'op': 'delete', 'count': 7}\n",
      "Current latest:  uses operational transformations to keep everyone in a multiplayer repl in sync.\n",
      "Processing operation: {'op': 'insert', 'chars': 'We'}\n",
      "Current latest: We uses operational transformations to keep everyone in a multiplayer repl in sync.\n",
      "Processing operation: {'op': 'skip', 'count': 4}\n",
      "Current latest: We uses operational transformations to keep everyone in a multiplayer repl in sync.\n",
      "Current idx: 6\n",
      "Processing operation: {'op': 'delete', 'count': 1}\n",
      "Current latest: We use uses operational transformations to keep everyone in a multiplayer repl in sync.\n",
      "False\n"
     ]
    }
   ],
   "source": [
    "stale = 'Repl.it uses operational transformations to keep everyone in a multiplayer repl in sync.'\n",
    "latest = 'We use operational transformations to keep everyone in a multiplayer repl in sync.'\n",
    "otjson = '[{\"op\": \"delete\", \"count\": 7}, {\"op\": \"insert\", \"chars\": \"We\"}, {\"op\": \"skip\", \"count\": 4}, {\"op\": \"delete\", \"count\": 1}]'\n",
    "\n",
    "print(isValid(stale, latest, otjson)) # True"
   ]
  },
  {
   "cell_type": "code",
   "execution_count": 25,
   "id": "5d32c4d5",
   "metadata": {},
   "outputs": [
    {
     "name": "stdout",
     "output_type": "stream",
     "text": [
      "Processing operation: {'op': 'delete', 'count': 7}\n",
      "Current latest:  uses operational transformations to keep everyone in a multiplayer repl in sync.\n",
      "Processing operation: {'op': 'insert', 'chars': 'We'}\n",
      "Current latest: We uses operational transformations to keep everyone in a multiplayer repl in sync.\n",
      "Processing operation: {'op': 'skip', 'count': 4}\n",
      "Current latest: We uses operational transformations to keep everyone in a multiplayer repl in sync.\n",
      "Current idx: 6\n",
      "Processing operation: {'op': 'delete', 'count': 1}\n",
      "Current latest: We use operational transformations to keep everyone in a multiplayer repl in sync.\n",
      "False\n"
     ]
    }
   ],
   "source": [
    "stale = 'Repl.it uses operational transformations to keep everyone in a multiplayer repl in sync.'\n",
    "latest = 'We use operational transformations to keep everyone in a multiplayer repl in sync.'\n",
    "otjson = '[{\"op\": \"delete\", \"count\": 7}, {\"op\": \"insert\", \"chars\": \"We\"}, {\"op\": \"skip\", \"count\": 4}, {\"op\": \"delete\", \"count\": 1}]'\n",
    "\n",
    "print(isValid(stale, latest, otjson)) # True"
   ]
  },
  {
   "cell_type": "code",
   "execution_count": 31,
   "id": "68cadcb4",
   "metadata": {},
   "outputs": [
    {
     "name": "stdout",
     "output_type": "stream",
     "text": [
      "Processing operation: {'op': 'delete', 'count': 7}\n",
      "Current latest:  uses operational transformations to keep everyone in a multiplayer repl in sync.\n",
      "Processing operation: {'op': 'insert', 'chars': 'We'}\n",
      "Current latest: We uses operational transformations to keep everyone in a multiplayer repl in sync.\n",
      "Processing operation: {'op': 'skip', 'count': 4}\n",
      "Current latest: We uses operational transformations to keep everyone in a multiplayer repl in sync.\n",
      "Current idx: 6\n",
      "Processing operation: {'op': 'delete', 'count': 1}\n",
      "Current latest: We use operational transformations to keep everyone in a multiplayer repl in sync.\n",
      "True\n"
     ]
    }
   ],
   "source": [
    "stale = 'Repl.it uses operational transformations to keep everyone in a multiplayer repl in sync.'\n",
    "latest = 'We use operational transformations to keep everyone in a multiplayer repl in sync.'\n",
    "otjson = '[{\"op\": \"delete\", \"count\": 7}, {\"op\": \"insert\", \"chars\": \"We\"}, {\"op\": \"skip\", \"count\": 4}, {\"op\": \"delete\", \"count\": 1}]'\n",
    "\n",
    "print(isValid(stale, latest, otjson)) # True"
   ]
  },
  {
   "cell_type": "code",
   "execution_count": 50,
   "id": "d8e7642d",
   "metadata": {},
   "outputs": [
    {
     "name": "stdout",
     "output_type": "stream",
     "text": [
      "Processing operation: {'op': 'skip', 'count': 40}\n",
      "Current latest: Repl.it uses operational transformations to keep everyone in a multiplayer repl in sync.\n",
      "Current idx: 40\n",
      "Processing operation: {'op': 'delete', 'count': 47}\n",
      "Current latest: Repl.it uses operational transformations.\n",
      "True\n"
     ]
    }
   ],
   "source": [
    "stale =  'Repl.it uses operational transformations to keep everyone in a multiplayer repl in sync.'\n",
    "latest =  'Repl.it uses operational transformations.'\n",
    "otjson =  '[{\"op\": \"skip\", \"count\": 40}, {\"op\": \"delete\", \"count\": 47}]'\n",
    "\n",
    "print(isValid(stale, latest, otjson))"
   ]
  },
  {
   "cell_type": "code",
   "execution_count": 49,
   "id": "57325be9",
   "metadata": {},
   "outputs": [
    {
     "name": "stdout",
     "output_type": "stream",
     "text": [
      "Processing operation: {'op': 'delete', 'count': 7}\n",
      "Current latest:  uses operational transformations to keep everyone in a multiplayer repl in sync.\n",
      "Processing operation: {'op': 'insert', 'chars': 'We'}\n",
      "Current latest: We uses operational transformations to keep everyone in a multiplayer repl in sync.\n",
      "Processing operation: {'op': 'skip', 'count': 4}\n",
      "Current latest: We uses operational transformations to keep everyone in a multiplayer repl in sync.\n",
      "Current idx: 6\n",
      "Processing operation: {'op': 'delete', 'count': 1}\n",
      "Current latest: We use operational transformations to keep everyone in a multiplayer repl in sync.\n",
      "False\n"
     ]
    }
   ],
   "source": [
    "print(isValid(\n",
    "  'Repl.it uses operational transformations to keep everyone in a multiplayer repl in sync.',\n",
    "  'We can use operational transformations to keep everyone in a multiplayer repl in sync.',\n",
    "  '[{\"op\": \"delete\", \"count\": 7}, {\"op\": \"insert\", \"chars\": \"We\"}, {\"op\": \"skip\", \"count\": 4}, {\"op\": \"delete\", \"count\": 1}]'))"
   ]
  },
  {
   "cell_type": "code",
   "execution_count": 51,
   "id": "d660a491",
   "metadata": {},
   "outputs": [
    {
     "name": "stdout",
     "output_type": "stream",
     "text": [
      "True\n"
     ]
    }
   ],
   "source": [
    "print(isValid(\n",
    "  'Repl.it uses operational transformations to keep everyone in a multiplayer repl in sync.',\n",
    "  'Repl.it uses operational transformations to keep everyone in a multiplayer repl in sync.',\n",
    "  '[]'\n",
    "))"
   ]
  },
  {
   "cell_type": "code",
   "execution_count": 54,
   "id": "ce58a043",
   "metadata": {},
   "outputs": [
    {
     "name": "stdout",
     "output_type": "stream",
     "text": [
      "Processing operation: {'op': 'skip', 'count': 40}\n",
      "Current latest: Repl.it uses operational transformations to keep everyone in a multiplayer repl in sync.\n",
      "Current idx: 40\n",
      "Processing operation: {'op': 'delete', 'count': 47}\n",
      "Current latest: Repl.it uses operational transformations.\n",
      "Processing operation: {'op': 'skip', 'count': 2}\n"
     ]
    },
    {
     "data": {
      "text/plain": [
       "False"
      ]
     },
     "execution_count": 54,
     "metadata": {},
     "output_type": "execute_result"
    }
   ],
   "source": [
    "isValid(\n",
    "  'Repl.it uses operational transformations to keep everyone in a multiplayer repl in sync.',\n",
    "  'Repl.it uses operational transformations.',\n",
    "  '[{\"op\": \"skip\", \"count\": 40}, {\"op\": \"delete\", \"count\": 47}, {\"op\": \"skip\", \"count\": 2}]'\n",
    ")"
   ]
  },
  {
   "cell_type": "code",
   "execution_count": 61,
   "id": "3b49e357",
   "metadata": {},
   "outputs": [
    {
     "name": "stdout",
     "output_type": "stream",
     "text": [
      "Processing operation: {'op': 'skip', 'count': 45}\n",
      "Current latest: Repl.it uses operational transformations to keep everyone in a multiplayer repl in sync.\n",
      "Current idx: 45\n",
      "Processing operation: {'op': 'delete', 'count': 47}\n"
     ]
    },
    {
     "data": {
      "text/plain": [
       "False"
      ]
     },
     "execution_count": 61,
     "metadata": {},
     "output_type": "execute_result"
    }
   ],
   "source": [
    "isValid(\n",
    "  'Repl.it uses operational transformations to keep everyone in a multiplayer repl in sync.',\n",
    "  'Repl.it uses operational transformations.',\n",
    "  '[{\"op\": \"skip\", \"count\": 45}, {\"op\": \"delete\", \"count\": 47}]'\n",
    ")"
   ]
  },
  {
   "cell_type": "code",
   "execution_count": 62,
   "id": "4ef6f0e3",
   "metadata": {},
   "outputs": [
    {
     "name": "stdout",
     "output_type": "stream",
     "text": [
      "Processing operation: {'op': 'skip', 'count': 40}\n",
      "Current latest: Repl.it uses operational transformations to keep everyone in a multiplayer repl in sync.\n",
      "Current idx: 40\n",
      "Processing operation: {'op': 'delete', 'count': 47}\n",
      "Current latest: Repl.it uses operational transformations.\n"
     ]
    },
    {
     "data": {
      "text/plain": [
       "True"
      ]
     },
     "execution_count": 62,
     "metadata": {},
     "output_type": "execute_result"
    }
   ],
   "source": [
    "isValid(\n",
    "  'Repl.it uses operational transformations to keep everyone in a multiplayer repl in sync.',\n",
    "  'Repl.it uses operational transformations.',\n",
    "  '[{\"op\": \"skip\", \"count\": 40}, {\"op\": \"delete\", \"count\": 47}]'\n",
    ")"
   ]
  },
  {
   "cell_type": "code",
   "execution_count": null,
   "id": "856050cf",
   "metadata": {},
   "outputs": [],
   "source": []
  }
 ],
 "metadata": {
  "kernelspec": {
   "display_name": "Python 3 (ipykernel)",
   "language": "python",
   "name": "python3"
  },
  "language_info": {
   "codemirror_mode": {
    "name": "ipython",
    "version": 3
   },
   "file_extension": ".py",
   "mimetype": "text/x-python",
   "name": "python",
   "nbconvert_exporter": "python",
   "pygments_lexer": "ipython3",
   "version": "3.10.10"
  }
 },
 "nbformat": 4,
 "nbformat_minor": 5
}
